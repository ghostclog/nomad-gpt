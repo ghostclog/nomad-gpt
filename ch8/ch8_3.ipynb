{
 "cells": [
  {
   "cell_type": "code",
   "execution_count": null,
   "metadata": {},
   "outputs": [],
   "source": [
    "# gpt4all(3번 강의)의 경우 그냥 영상만 보고 넘김. 실사용은 올라마로 처리\n",
    "# 3번 강의에선 model을 다운로드 받고, 해당 모델의 파일 위치를 변경한 다음에 해당 파일을 불러오는 방식을 사용. 당연히 올라마보단 불편함"
   ]
  }
 ],
 "metadata": {
  "kernelspec": {
   "display_name": "env",
   "language": "python",
   "name": "python3"
  },
  "language_info": {
   "name": "python",
   "version": "3.11.1"
  }
 },
 "nbformat": 4,
 "nbformat_minor": 2
}
