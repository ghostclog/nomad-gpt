{
 "cells": [
  {
   "cell_type": "code",
   "execution_count": 9,
   "metadata": {},
   "outputs": [],
   "source": [
    "from langchain.chat_models import ChatOpenAI\n",
    "from langchain.prompts import ChatPromptTemplate\n",
    "from langchain.prompts.few_shot import FewShotChatMessagePromptTemplate\n",
    "from langchain.callbacks import StreamingStdOutCallbackHandler"
   ]
  },
  {
   "cell_type": "code",
   "execution_count": 10,
   "metadata": {},
   "outputs": [],
   "source": [
    "CHAT = ChatOpenAI(\n",
    "    temperature=0.5,\n",
    "    streaming=True,\n",
    "    callbacks=[StreamingStdOutCallbackHandler()]\n",
    ")"
   ]
  },
  {
   "cell_type": "code",
   "execution_count": 11,
   "metadata": {},
   "outputs": [],
   "source": [
    "example = [\n",
    "    {\n",
    "        \"movie\":\"기생충\",\n",
    "        \"answer\":\"\"\"\n",
    "- 감독: 봉준호\n",
    "- 주요 출연진: 송강호, 이선균, 조여정, 최우식, 박소담, 장혜진\n",
    "- 예산: 약 1100만 달러\n",
    "- 흥행 수익: 약 2억 6,300만 달러\n",
    "- 시놉시스: 영화 '기생충'은 가난한 김가네 가족이 부유한 박가네 집에 한 명씩 가사도우미, 운전사, 가정교사 등으로 위장 취업하면서 벌어지는 일들을 다룬다. 이들의 계획이 점점 더 깊어지며 예상치 못한 사건들이 연쇄적으로 발생하게 된다. 빈부 격차와 계층 간의 갈등을 주제로 한 이 영화는 흥미로운 반전과 사회적인 메시지로 많은 이들에게 강한 인상을 남겼다.\n",
    "        \"\"\"\n",
    "    },\n",
    "    {\n",
    "        \"movie\":\"듄2\",\n",
    "        \"answer\":\"\"\"\n",
    "- 감독: 드니 빌뇌브\n",
    "- 주요 출연진: 티모시 샬라메, 젠데이아, 조쉬 브롤린, 플로렌스 퓨, 데이브 바티스타, 크리스토퍼 워켄\n",
    "- 예산: 약 3억 달러\n",
    "- 흥행 수익: 약 3억 6,750만 달러\n",
    "- 시놉시스: 듄: 파트 2는 폴 아트레이데스가 아라키스에서 프레멘들과 함께 싸우며, 하우스 하코넨과 제국에 맞서 자신과 가족의 복수를 추구하는 이야기를 그린다. 폴은 프레멘 문화에 깊이 빠져들며 그들의 예언적 인물이 될 수 있는지를 시험받게 된다.\n",
    "        \"\"\"\n",
    "    },\n",
    "    {\n",
    "        \"movie\":\"데드풀과 울버린\",\n",
    "        \"answer\":\"\"\"\n",
    "- 감독: 봉준호\n",
    "- 주요 출연진: 라이언 레이놀즈, 휴 잭맨\n",
    "- 예산: 미공개\n",
    "- 흥행 수익: 미공개\n",
    "- 시놉시스: 데드풀은 시간 변이 관리국(TVA)에 의해 다중 우주의 문제를 해결하기 위해 모집됩니다. 데드풀과 울버린은 처음에는 서로를 싫어하지만, 함께 협력하여 공통의 적에 맞서게 됩니다. 이 과정에서 다중 우주의 여러 캐릭터들이 등장할 예정입니다.\n",
    "        \"\"\"\n",
    "    },\n",
    "    {\n",
    "        \"movie\":\"스파이더맨: 노 웨이 홈\",\n",
    "        \"answer\":\"\"\"\n",
    "- 감독: 봉준호\n",
    "- 주요 출연진: 톰 홀랜드, 젠데이아, 제이콥 배틀런, 베네딕트 컴버배치, 알프리드 몰리나, 윌렘 대포, 토비 맥과이어, 앤드류 가필드\n",
    "- 예산: 약 2억 달러\n",
    "- 흥행 수익: 약 19억 달러\n",
    "- 시놉시스: 피터 파커는 자신의 정체가 세상에 공개된 후 큰 혼란에 빠지게 됩니다. 이를 해결하기 위해 닥터 스트레인지의 도움을 받아 세상의 기억에서 자신을 지우려고 하지만, 이 과정에서 멀티버스의 문이 열리게 되어 다른 차원의 악당들이 나타납니다. 이들은 각자의 차원에서 스파이더맨과 싸웠던 적들로, 피터는 이들에 맞서기 위해 다른 차원의 스파이더맨들과 힘을 합치게 됩니다.\n",
    "        \"\"\"\n",
    "    },\n",
    "]"
   ]
  },
  {
   "cell_type": "code",
   "execution_count": 12,
   "metadata": {},
   "outputs": [
    {
     "name": "stdout",
     "output_type": "stream",
     "text": [
      "- 감독: 안소니 루소, 조 루소\n",
      "- 주요 출연진: 로버트 다우니 주니어, 크리스 에반스, 크리스 헴스워스, 스칼릿 요한슨, 마크 러팔로, 제레미 레너, 폴 러드, 조슈 브롤린, 브리 라슨, 카렌 길런, 도널 글리슨\n",
      "- 예산: 약 3억 56백만 달러\n",
      "- 흥행 수익: 20억 94백만 달러\n",
      "- 시놉시스: 어벤져스: 엔드게임은 어벤져스 시리즈의 완결편으로, 타노스에게 패배한 후 지구에 치명적인 타격을 입은 어벤져스가 다시 모여 마지막 반격을 준비하는 이야기를 다룹니다. 어벤져스 멤버들은 시간 여행을 통해 지난 사건들을 바꾸고, 타노스와의 최종 결전을 준비합니다. 이 영화는 많은 어벤져스 팬들에게 감동과 만족을 안겨주었으며, 마블 시네마틱 유니버스의 중요한 이정표가 되었습니다."
     ]
    },
    {
     "data": {
      "text/plain": [
       "AIMessageChunk(content='- 감독: 안소니 루소, 조 루소\\n- 주요 출연진: 로버트 다우니 주니어, 크리스 에반스, 크리스 헴스워스, 스칼릿 요한슨, 마크 러팔로, 제레미 레너, 폴 러드, 조슈 브롤린, 브리 라슨, 카렌 길런, 도널 글리슨\\n- 예산: 약 3억 56백만 달러\\n- 흥행 수익: 20억 94백만 달러\\n- 시놉시스: 어벤져스: 엔드게임은 어벤져스 시리즈의 완결편으로, 타노스에게 패배한 후 지구에 치명적인 타격을 입은 어벤져스가 다시 모여 마지막 반격을 준비하는 이야기를 다룹니다. 어벤져스 멤버들은 시간 여행을 통해 지난 사건들을 바꾸고, 타노스와의 최종 결전을 준비합니다. 이 영화는 많은 어벤져스 팬들에게 감동과 만족을 안겨주었으며, 마블 시네마틱 유니버스의 중요한 이정표가 되었습니다.')"
      ]
     },
     "execution_count": 12,
     "metadata": {},
     "output_type": "execute_result"
    }
   ],
   "source": [
    "example_prompt = ChatPromptTemplate.from_messages([\n",
    "        (\"user\",\"{movie}라는 영화에 대해 알려줘\"),\n",
    "        (\"ai\",\"{answer}\")\n",
    "])\n",
    "\n",
    "example_prompt = FewShotChatMessagePromptTemplate(\n",
    "    example_prompt=example_prompt,\n",
    "    examples=example,\n",
    ")\n",
    "\n",
    "final_prompt = ChatPromptTemplate.from_messages([\n",
    "    (\"system\",\"당신은 영화에 대한 모든 정보를 알고 있는 영화의 아카시 레코드입니다. 어떤 영화에 대해 물어보면 최대한으로 대답해야합니다.\"),\n",
    "    example_prompt,\n",
    "    (\"human\",\"{movie}라는 영화에 대해 알려줘.\")\n",
    "])\n",
    "\n",
    "chain = final_prompt | CHAT\n",
    "chain.invoke({\"movie\": \"어밴져스 엔드게임\"})"
   ]
  }
 ],
 "metadata": {
  "kernelspec": {
   "display_name": "env",
   "language": "python",
   "name": "python3"
  },
  "language_info": {
   "codemirror_mode": {
    "name": "ipython",
    "version": 3
   },
   "file_extension": ".py",
   "mimetype": "text/x-python",
   "name": "python",
   "nbconvert_exporter": "python",
   "pygments_lexer": "ipython3",
   "version": "3.11.1"
  }
 },
 "nbformat": 4,
 "nbformat_minor": 2
}
