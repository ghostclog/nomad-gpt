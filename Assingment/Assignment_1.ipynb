{
 "cells": [
  {
   "cell_type": "code",
   "execution_count": null,
   "metadata": {},
   "outputs": [],
   "source": [
    "from langchain.chat_models import ChatOpenAI\n",
    "from langchain.prompts import ChatPromptTemplate\n",
    "from langchain.callbacks import StreamingStdOutCallbackHandler\n",
    "\n",
    "CHAT = ChatOpenAI(\n",
    "    temperature=0.4,\n",
    "    streaming=True,\n",
    "    callbacks=[StreamingStdOutCallbackHandler()]\n",
    ")"
   ]
  },
  {
   "cell_type": "code",
   "execution_count": 11,
   "metadata": {},
   "outputs": [
    {
     "name": "stdout",
     "output_type": "stream",
     "text": [
      "산 넘어 저 넘어 파이썬 경이로와  \n",
      "들여다보니 심플하고 아름다운 코드  \n",
      "들여다보니 인간다운 문법  \n",
      "파이썬이여 너의 매력에 빠져버렸네"
     ]
    },
    {
     "data": {
      "text/plain": [
       "AIMessageChunk(content='산 넘어 저 넘어 파이썬 경이로와  \\n들여다보니 심플하고 아름다운 코드  \\n들여다보니 인간다운 문법  \\n파이썬이여 너의 매력에 빠져버렸네')"
      ]
     },
     "execution_count": 11,
     "metadata": {},
     "output_type": "execute_result"
    }
   ],
   "source": [
    "progreming_poem_template = ChatPromptTemplate.from_messages([\n",
    "    (\"system\", \"당신은 한 때 조선의 '시조'라는 한국 고유의 정형시를 전공했던 수십년 경력의 전문 개발자입니다. 이제 당신은 주어진 프로그레밍 언어의 특징을 살린 평시조를 만들어야합니다.\"),\n",
    "    (\"human\", \"{question}라는 언어의 특징이 살아있는 평시조를 만들어줘!\"),\n",
    "])\n",
    "\n",
    "progreming_poem_chain = progreming_poem_template | CHAT\n",
    "\n",
    "progreming_poem_chain.invoke({\n",
    "    \"question\":\"파이썬\"\n",
    "})"
   ]
  },
  {
   "cell_type": "code",
   "execution_count": 18,
   "metadata": {},
   "outputs": [
    {
     "name": "stdout",
     "output_type": "stream",
     "text": [
      "주어진 시조는 파이썬 프로그래밍 언어에 대한 칭찬과 사랑을 담은 것으로 보입니다.\n",
      "\n",
      "1. \"산 넘어 저 넘어 파이썬 경이로와\": 파이썬이라는 프로그래밍 언어가 널리 사용되고 있고, 그 편리함과 유용성이 마치 산을 넘어 저 넘어 갈 만큼 훌륭하다는 의미로 표현되었습니다.\n",
      "\n",
      "2. \"들여다보니 심플하고 아름다운 코드\": 파이썬은 간결하고 아름다운 코드를 작성할 수 있는 특징을 가지고 있습니다. 이는 파이썬의 문법이 간결하고 직관적이며, 가독성이 좋다는 것을 의미합니다.\n",
      "\n",
      "3. \"들여다보니 인간다운 문법\": 파이썬은 사람이 이해하기 쉬운 문법을 가지고 있어 프로그래밍을 처음 배우는 사람들에게도 친숙하게 느껴집니다. 이는 파이썬이 배우기 쉽고 사용하기 편리한 언어라는 것을 강조한 것입니다.\n",
      "\n",
      "4. \"파이썬이여 너의 매력에 빠져버렸네\": 시인은 파이썬의 매력에 사로잡혀버렸다는 것을 표현하고 있습니다. 파이썬은 다양한 분야에서 사용되는 범용 프로그래밍 언어로, 그 유연성과 다양한 라이브러리를 통해 많은 프로그래머들에게 사랑받고 있습니다."
     ]
    },
    {
     "data": {
      "text/plain": [
       "AIMessageChunk(content='주어진 시조는 파이썬 프로그래밍 언어에 대한 칭찬과 사랑을 담은 것으로 보입니다.\\n\\n1. \"산 넘어 저 넘어 파이썬 경이로와\": 파이썬이라는 프로그래밍 언어가 널리 사용되고 있고, 그 편리함과 유용성이 마치 산을 넘어 저 넘어 갈 만큼 훌륭하다는 의미로 표현되었습니다.\\n\\n2. \"들여다보니 심플하고 아름다운 코드\": 파이썬은 간결하고 아름다운 코드를 작성할 수 있는 특징을 가지고 있습니다. 이는 파이썬의 문법이 간결하고 직관적이며, 가독성이 좋다는 것을 의미합니다.\\n\\n3. \"들여다보니 인간다운 문법\": 파이썬은 사람이 이해하기 쉬운 문법을 가지고 있어 프로그래밍을 처음 배우는 사람들에게도 친숙하게 느껴집니다. 이는 파이썬이 배우기 쉽고 사용하기 편리한 언어라는 것을 강조한 것입니다.\\n\\n4. \"파이썬이여 너의 매력에 빠져버렸네\": 시인은 파이썬의 매력에 사로잡혀버렸다는 것을 표현하고 있습니다. 파이썬은 다양한 분야에서 사용되는 범용 프로그래밍 언어로, 그 유연성과 다양한 라이브러리를 통해 많은 프로그래머들에게 사랑받고 있습니다.')"
      ]
     },
     "execution_count": 18,
     "metadata": {},
     "output_type": "execute_result"
    }
   ],
   "source": [
    "analyzing_poem_template = ChatPromptTemplate.from_messages([\n",
    "    (\"system\", \"이제 당신에게 특정 프로그레밍 언어의 특징이 담겨있는 평시조가 주어질겁니다. 어떤 프로그레밍 언어가 사용되었는지 알려주고, 동시에 해당 시조를 분석해주세요.\"),\n",
    "    (\"human\", \"{poem}\"),\n",
    "])\n",
    "\n",
    "analyzing_poem_chain = analyzing_poem_template | CHAT\n",
    "\n",
    "analyzing_poem_chain.invoke({\n",
    "    \"poem\":\"산 넘어 저 넘어 파이썬 경이로와  \\n들여다보니 심플하고 아름다운 코드  \\n들여다보니 인간다운 문법  \\n파이썬이여 너의 매력에 빠져버렸네\"\n",
    "})"
   ]
  },
  {
   "cell_type": "code",
   "execution_count": 19,
   "metadata": {},
   "outputs": [
    {
     "name": "stdout",
     "output_type": "stream",
     "text": [
      "이봐라 이봐라 파이썬 언어여,\n",
      "들여쓰기로 블록을 나타내는 아름다운 언어여.\n",
      "콜론 없이도 문장을 끝내는 편안한 문법,\n",
      "간결하고 명확한 코드로 마음을 사로잡는 언어여.\n",
      "\n",
      "리스트와 딕셔너리로 자료를 다루며,\n",
      "함수와 클래스로 모듈화를 이루는 언어여.\n",
      "파이썬이여, 유연하고 다양한 라이브러리,\n",
      "과학, 웹, 인공지능을 넘나드는 힘을 안고 있는 언어여.\n",
      "\n",
      "파이썬이여, 문법은 쉽고 익숙하나,\n",
      "그 안에는 무궁무진한 가능성이 펼쳐져 있는 언어여.\n",
      "개발자들의 마음을 사로잡는 파이썬,\n",
      "너의 아름다움은 영원히 기억될 것이니.해당 시조는 파이썬 언어에 대한 찬사로 이루어진 것으로 보입니다. 파이썬은 들여쓰기로 블록을 나타내는 아름다운 문법과 콜론 없이도 문장을 끝내는 편안한 문법, 간결하고 명확한 코드로 유명합니다. 또한 리스트와 딕셔너리로 자료를 다루고, 함수와 클래스로 모듈화를 이루며, 다양한 라이브러리를 갖고 있어 과학, 웹, 인공지능 등 다양한 분야에서 활용되고 있습니다.\n",
      "\n",
      "시조 속에서는 파이썬의 문법이 쉽고 익숙하면서도 무궁무진한 가능성을 가지고 있다고 언급되었습니다. 또한 파이썬이 개발자들의 마음을 사로잡는 아름다움을 갖고 있다고 표현되어 있습니다. 이 시조를 통해 파이썬이 사용자들에게 친숙하면서도 강력한 언어임을 강조하고 있습니다."
     ]
    },
    {
     "data": {
      "text/plain": [
       "AIMessageChunk(content='해당 시조는 파이썬 언어에 대한 찬사로 이루어진 것으로 보입니다. 파이썬은 들여쓰기로 블록을 나타내는 아름다운 문법과 콜론 없이도 문장을 끝내는 편안한 문법, 간결하고 명확한 코드로 유명합니다. 또한 리스트와 딕셔너리로 자료를 다루고, 함수와 클래스로 모듈화를 이루며, 다양한 라이브러리를 갖고 있어 과학, 웹, 인공지능 등 다양한 분야에서 활용되고 있습니다.\\n\\n시조 속에서는 파이썬의 문법이 쉽고 익숙하면서도 무궁무진한 가능성을 가지고 있다고 언급되었습니다. 또한 파이썬이 개발자들의 마음을 사로잡는 아름다움을 갖고 있다고 표현되어 있습니다. 이 시조를 통해 파이썬이 사용자들에게 친숙하면서도 강력한 언어임을 강조하고 있습니다.')"
      ]
     },
     "execution_count": 19,
     "metadata": {},
     "output_type": "execute_result"
    }
   ],
   "source": [
    "final_chain = {\"poem\":progreming_poem_chain} | analyzing_poem_chain\n",
    "\n",
    "final_chain.invoke({\n",
    "    \"question\":\"파이썬\"\n",
    "})"
   ]
  }
 ],
 "metadata": {
  "kernelspec": {
   "display_name": "env",
   "language": "python",
   "name": "python3"
  },
  "language_info": {
   "codemirror_mode": {
    "name": "ipython",
    "version": 3
   },
   "file_extension": ".py",
   "mimetype": "text/x-python",
   "name": "python",
   "nbconvert_exporter": "python",
   "pygments_lexer": "ipython3",
   "version": "3.11.1"
  }
 },
 "nbformat": 4,
 "nbformat_minor": 2
}
