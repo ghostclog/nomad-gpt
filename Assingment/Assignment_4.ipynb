{
 "cells": [
  {
   "cell_type": "code",
   "execution_count": null,
   "metadata": {},
   "outputs": [],
   "source": [
    "from langchain.chat_models import ChatOpenAI\n",
    "from langchain.memory import ConversationBufferMemory\n",
    "from langchain.vectorstores import FAISS\n",
    "from langchain.embeddings import OpenAIEmbeddings,CacheBackedEmbeddings\n",
    "from langchain.document_loaders import TextLoader\n",
    "from langchain.schema.runnable import RunnablePassthrough,RunnableLambda\n",
    "from langchain.callbacks import StreamingStdOutCallbackHandler\n",
    "from langchain.storage import LocalFileStore # 캐시 파일 저장 경로 지정용\n",
    "from langchain.text_splitter import CharacterTextSplitter\n",
    "from langchain.prompts import ChatPromptTemplate\n",
    "from langchain.chains import LLMChain\n",
    "\n",
    "CHAT = ChatOpenAI(\n",
    "    temperature=0.5,\n",
    "    streaming=True,\n",
    "    callbacks=[StreamingStdOutCallbackHandler()],\n",
    "    model = \"gpt-4o-mini\",\n",
    ")"
   ]
  },
  {
   "cell_type": "code",
   "execution_count": 60,
   "metadata": {},
   "outputs": [],
   "source": [
    "\"\"\"\n",
    "강의와 달리 캐시 부분은 제외했습니다.\n",
    "\"\"\"\n",
    "\n",
    "### 문서를 로드한다\n",
    "row_txt = TextLoader(\"../files/for_assignment.txt\")\n",
    "\n",
    "### 문서를 쪼갠다\n",
    "# 문서를 쪼개줄 splitter\n",
    "splitter = CharacterTextSplitter.from_tiktoken_encoder(\n",
    "    separator=\"\\n\",\n",
    "    chunk_size=600,\n",
    "    chunk_overlap=100,\n",
    ")\n",
    "# splitter를 이용해서 문서 쪼개기\n",
    "docs = row_txt.load_and_split(text_splitter=splitter)\n",
    "#임베딩 객체\n",
    "embeddings = OpenAIEmbeddings()\n",
    "# 벡터 스토어 생성\n",
    "vectorstore = FAISS.from_documents(docs, embeddings)\n",
    "\n",
    "### 쪼개진 문서를 전달한다.\n",
    "#메모리 객체\n",
    "memory = ConversationBufferMemory(\n",
    "    return_messages=True,\n",
    "    memory_key=\"history\"\n",
    ")\n",
    "# 대화내용을 기록 및 전달하기 위한 탬플릿\n",
    "template = [\n",
    "        (\n",
    "            \"system\",\n",
    "            \"\"\"\n",
    "            아래의 내용은 당신과 사용자가 이전에 나눴던 대화 내용입니다. 이후 답변에 참고하세요.\n",
    "            /n/n\n",
    "            {history}\n",
    "            \"\"\",\n",
    "        ),\n",
    "        (\"human\", \"이번 질문은'{question}'이야. 너는 질문의 내용과 이전 대화 내용이 존재할 경우 해당 대화 내용을 짧게 전달해주면 돼\"),\n",
    "    ]\n",
    "# memoery_chain 생성. 이후에 메인 chain과 연결 할 예정. LLMChain 사용이 메모리 사용이 더 편해서 해당 방식 사용\n",
    "memoery_chain = LLMChain(\n",
    "    llm=CHAT,\n",
    "    memory=memory,\n",
    "    prompt=ChatPromptTemplate.from_messages(template)\n",
    ")\n",
    "# 문서를 전달할때 사용할 retriver 생성\n",
    "retriver = vectorstore.as_retriever()\n",
    "# 문서를 한 번에 받아서, 처리해줄 프롬프트\n",
    "prompt = ChatPromptTemplate.from_messages(\n",
    "    [\n",
    "        (\n",
    "            \"system\",\n",
    "            \"\"\"\n",
    "            당신은 도움이 되는 조수입니다.\n",
    "            다음 컨텍스트만 사용하여 질문에 답합니다.\n",
    "            답을 모르면 모르겠다고만 하면 지어내지 마세요.:\n",
    "            \\n\\n\n",
    "            {context}\n",
    "            \\n\\n\n",
    "            {history}\n",
    "            \"\"\",\n",
    "        ),\n",
    "        (\"human\", \"{question}\"),\n",
    "    ]\n",
    ")\n",
    "# 체인 구성\n",
    "chain = {\"history\":memoery_chain,\"context\":retriver,\"question\":RunnablePassthrough()} | prompt | CHAT\n"
   ]
  },
  {
   "cell_type": "code",
   "execution_count": 61,
   "metadata": {},
   "outputs": [
    {
     "name": "stdout",
     "output_type": "stream",
     "text": [
      "현재까지의 대화 내용은 없습니다. \"Aaronson 은 유죄인가요?\"라는 질문에 대해 답변할 수 있도록 추가 정보를 제공해 주시면 감사하겠습니다.Aaronson은 유죄가 아닙니다. 그에 대한 사진이 존재했으며, 그것은 그의 무죄를 증명하는 것이었습니다. 그러나 Winston은 그 사진을 본 적이 없으며, 그것은 존재하지 않았다고 스스로 믿게 되었습니다."
     ]
    },
    {
     "data": {
      "text/plain": [
       "AIMessageChunk(content='Aaronson은 유죄가 아닙니다. 그에 대한 사진이 존재했으며, 그것은 그의 무죄를 증명하는 것이었습니다. 그러나 Winston은 그 사진을 본 적이 없으며, 그것은 존재하지 않았다고 스스로 믿게 되었습니다.')"
      ]
     },
     "execution_count": 61,
     "metadata": {},
     "output_type": "execute_result"
    }
   ],
   "source": [
    "chain.invoke(\"Aaronson 은 유죄인가요?\")"
   ]
  },
  {
   "cell_type": "code",
   "execution_count": 62,
   "metadata": {},
   "outputs": [
    {
     "name": "stdout",
     "output_type": "stream",
     "text": [
      "이전 대화에서는 \"Aaronson 은 유죄인가요?\"라는 질문이 있었지만, 그에 대한 구체적인 내용이나 메시지는 언급되지 않았습니다. 현재로서는 Aaronson이 테이블에 쓴 메시지에 대한 정보가 없습니다. 추가 정보를 제공해 주시면 더 도움을 드릴 수 있습니다.현재로서는 Aaronson이 테이블에 쓴 메시지에 대한 정보가 없습니다. 추가 정보를 제공해 주시면 더 도움을 드릴 수 있습니다."
     ]
    },
    {
     "data": {
      "text/plain": [
       "AIMessageChunk(content='현재로서는 Aaronson이 테이블에 쓴 메시지에 대한 정보가 없습니다. 추가 정보를 제공해 주시면 더 도움을 드릴 수 있습니다.')"
      ]
     },
     "execution_count": 62,
     "metadata": {},
     "output_type": "execute_result"
    }
   ],
   "source": [
    "chain.invoke(\"그(Aaronson)가 테이블에 어떤 메시지를 썼나요?\")"
   ]
  },
  {
   "cell_type": "code",
   "execution_count": 63,
   "metadata": {},
   "outputs": [
    {
     "name": "stdout",
     "output_type": "stream",
     "text": [
      "이전 대화에서 \"Aaronson 은 유죄인가요?\"라는 질문이 있었고, 그에 대한 구체적인 내용이나 메시지는 언급되지 않았습니다. 현재로서는 Aaronson이 테이블에 쓴 메시지에 대한 정보가 없습니다. 추가 정보를 제공해 주시면 더 도움을 드릴 수 있습니다.현재로서는 그가 테이블에 쓴 메시지에 대한 정보가 없습니다. 추가 정보를 제공해 주시면 더 도움을 드릴 수 있습니다."
     ]
    },
    {
     "data": {
      "text/plain": [
       "AIMessageChunk(content='현재로서는 그가 테이블에 쓴 메시지에 대한 정보가 없습니다. 추가 정보를 제공해 주시면 더 도움을 드릴 수 있습니다.')"
      ]
     },
     "execution_count": 63,
     "metadata": {},
     "output_type": "execute_result"
    }
   ],
   "source": [
    "chain.invoke(\"그가 테이블에 어떤 메시지를 썼나요?\")"
   ]
  },
  {
   "cell_type": "code",
   "execution_count": 64,
   "metadata": {},
   "outputs": [
    {
     "name": "stdout",
     "output_type": "stream",
     "text": [
      "이전 대화에서는 \"Aaronson 은 유죄인가요?\"라는 질문과 관련된 내용이 있었습니다. 그러나 \"Julia\"에 대한 언급이나 정보는 없었습니다. Julia에 대해 궁금한 점이나 추가 정보를 제공해 주시면 더 도움을 드릴 수 있습니다.현재 제공된 정보에서는 Julia에 대한 구체적인 설명이나 배경이 없습니다. Julia에 대해 더 알고 싶으시다면 추가 정보를 제공해 주시면 더 도움을 드릴 수 있습니다."
     ]
    },
    {
     "data": {
      "text/plain": [
       "AIMessageChunk(content='현재 제공된 정보에서는 Julia에 대한 구체적인 설명이나 배경이 없습니다. Julia에 대해 더 알고 싶으시다면 추가 정보를 제공해 주시면 더 도움을 드릴 수 있습니다.')"
      ]
     },
     "execution_count": 64,
     "metadata": {},
     "output_type": "execute_result"
    }
   ],
   "source": [
    "chain.invoke(\"Julia 는 누구인가요?\")"
   ]
  }
 ],
 "metadata": {
  "kernelspec": {
   "display_name": "env",
   "language": "python",
   "name": "python3"
  },
  "language_info": {
   "codemirror_mode": {
    "name": "ipython",
    "version": 3
   },
   "file_extension": ".py",
   "mimetype": "text/x-python",
   "name": "python",
   "nbconvert_exporter": "python",
   "pygments_lexer": "ipython3",
   "version": "3.11.1"
  }
 },
 "nbformat": 4,
 "nbformat_minor": 2
}
