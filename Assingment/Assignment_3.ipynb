{
 "cells": [
  {
   "cell_type": "code",
   "execution_count": 57,
   "metadata": {},
   "outputs": [],
   "source": [
    "from langchain.chat_models import ChatOpenAI\n",
    "from langchain.prompts import ChatPromptTemplate\n",
    "from langchain.prompts.few_shot import FewShotChatMessagePromptTemplate\n",
    "from langchain.memory import ConversationBufferWindowMemory\n",
    "from langchain.schema.runnable import RunnablePassthrough\n",
    "\n",
    "CHAT = ChatOpenAI(\n",
    "    temperature=0.5,\n",
    "    streaming=True,\n",
    "    # model=\"GPT-4o mini\"\n",
    ")"
   ]
  },
  {
   "cell_type": "code",
   "execution_count": 58,
   "metadata": {},
   "outputs": [],
   "source": [
    "example = [\n",
    "    {\n",
    "        \"movie\":\"탑건\",\n",
    "        \"answer\":\"\"\"\n",
    "        🛩️👨‍✈️🔥\n",
    "        \"\"\"\n",
    "    },\n",
    "    {\n",
    "        \"movie\":\"대부\",\n",
    "        \"answer\":\"\"\"\n",
    "        👨‍👨‍👦🔫🍝\n",
    "        \"\"\"\n",
    "    },\n",
    "]"
   ]
  },
  {
   "cell_type": "code",
   "execution_count": 70,
   "metadata": {},
   "outputs": [],
   "source": [
    "memory = ConversationBufferWindowMemory(\n",
    "    return_messages=True,\n",
    "    k=4\n",
    ")\n",
    "\n",
    "example_prompt = ChatPromptTemplate.from_messages([\n",
    "        (\"user\", \"{movie}라는 영화를 3개의 이모티콘으로 표현해줘.\"),\n",
    "        (\"ai\", \"{answer}\")\n",
    "])\n",
    "\n",
    "example_prompt = FewShotChatMessagePromptTemplate(\n",
    "    example_prompt=example_prompt,\n",
    "    examples=example,\n",
    ")\n",
    "\n",
    "prompt = ChatPromptTemplate.from_messages([\n",
    "    (\"system\", \"당신은 영화를 3개의 이모티콘으로 줄여서 표현 할 수 있는 존재입니다.\"),\n",
    "    example_prompt,\n",
    "    (\"human\", \"{movie}라는 영화를 3개의 이모티콘으로 표현해줘.\")\n",
    "])\n",
    "\n",
    "chain = prompt | CHAT\n",
    "\n",
    "def add_message(input,output):\n",
    "    memory.save_context({\"input\":input},{\"output\":output})\n",
    "\n",
    "def send_message(movie:str):\n",
    "    rs = chain.invoke({\"movie\":movie})\n",
    "    add_message(movie,rs.content)\n",
    "    print(rs)"
   ]
  },
  {
   "cell_type": "code",
   "execution_count": 71,
   "metadata": {},
   "outputs": [
    {
     "name": "stdout",
     "output_type": "stream",
     "text": [
      "content='🌌🦸\\u200d♂️🚀'\n"
     ]
    }
   ],
   "source": [
    "send_message(\"가디언즈 오브 갤럭시1\")"
   ]
  },
  {
   "cell_type": "code",
   "execution_count": 72,
   "metadata": {},
   "outputs": [
    {
     "name": "stdout",
     "output_type": "stream",
     "text": [
      "content='🦸\\u200d♂️🔥🌌'\n"
     ]
    }
   ],
   "source": [
    "send_message(\"판타스틱4\")"
   ]
  },
  {
   "cell_type": "code",
   "execution_count": 73,
   "metadata": {},
   "outputs": [
    {
     "name": "stdout",
     "output_type": "stream",
     "text": [
      "content='🌿🌊💥'\n"
     ]
    }
   ],
   "source": [
    "send_message(\"아바타\")"
   ]
  },
  {
   "cell_type": "code",
   "execution_count": 74,
   "metadata": {},
   "outputs": [
    {
     "data": {
      "text/plain": [
       "{'history': [HumanMessage(content='가디언즈 오브 갤럭시1'),\n",
       "  AIMessage(content='🌌🦸\\u200d♂️🚀'),\n",
       "  HumanMessage(content='판타스틱4'),\n",
       "  AIMessage(content='🦸\\u200d♂️🔥🌌'),\n",
       "  HumanMessage(content='아바타'),\n",
       "  AIMessage(content='🌿🌊💥')]}"
      ]
     },
     "execution_count": 74,
     "metadata": {},
     "output_type": "execute_result"
    }
   ],
   "source": [
    "memory.load_memory_variables({})"
   ]
  }
 ],
 "metadata": {
  "kernelspec": {
   "display_name": "env",
   "language": "python",
   "name": "python3"
  },
  "language_info": {
   "codemirror_mode": {
    "name": "ipython",
    "version": 3
   },
   "file_extension": ".py",
   "mimetype": "text/x-python",
   "name": "python",
   "nbconvert_exporter": "python",
   "pygments_lexer": "ipython3",
   "version": "3.11.1"
  }
 },
 "nbformat": 4,
 "nbformat_minor": 2
}
