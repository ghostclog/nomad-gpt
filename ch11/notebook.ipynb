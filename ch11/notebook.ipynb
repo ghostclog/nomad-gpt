{
 "cells": [
  {
   "cell_type": "code",
   "execution_count": 1,
   "metadata": {},
   "outputs": [],
   "source": [
    "import subprocess\n",
    "\n",
    "def extract_audio_from_vedio(V_path,A_path):\n",
    "    command = [\"ffmpeg\", \"-i\", V_path, \"-vn\", A_path]\n",
    "\n",
    "    subprocess.run(command)\n",
    "\n",
    "extract_audio_from_vedio(\"./files/mashiro_asmr.mp4\",\"./files/mashiro_asmr.mp3\")"
   ]
  },
  {
   "cell_type": "code",
   "execution_count": 2,
   "metadata": {},
   "outputs": [
    {
     "data": {
      "text/plain": [
       "5597.589333333333"
      ]
     },
     "execution_count": 2,
     "metadata": {},
     "output_type": "execute_result"
    }
   ],
   "source": [
    "from pydub import AudioSegment\n",
    "\n",
    "track = AudioSegment.from_mp3(\"./files/mashiro_asmr.mp3\")\n",
    "\n",
    "track.duration_seconds"
   ]
  },
  {
   "cell_type": "code",
   "execution_count": 3,
   "metadata": {},
   "outputs": [
    {
     "data": {
      "text/plain": [
       "<_io.BufferedRandom name='./files/first_five.mp3'>"
      ]
     },
     "execution_count": 3,
     "metadata": {},
     "output_type": "execute_result"
    }
   ],
   "source": [
    "first_five = track[:5 * 60 * 1000]\n",
    "first_five.export(\"./files/first_five.mp3\",format=\"mp3\")"
   ]
  },
  {
   "cell_type": "code",
   "execution_count": 9,
   "metadata": {},
   "outputs": [
    {
     "name": "stdout",
     "output_type": "stream",
     "text": [
      "10\n"
     ]
    }
   ],
   "source": [
    "import math\n",
    "ten = 10 * 60 * 1000\n",
    "num_of_chunk = math.ceil(len(track)/ten)\n",
    "print(num_of_chunk)"
   ]
  },
  {
   "cell_type": "code",
   "execution_count": 11,
   "metadata": {},
   "outputs": [],
   "source": [
    "for i in range(num_of_chunk):\n",
    "    start_time = i * ten\n",
    "    end_time = (i+1) * ten\n",
    "    chunk = track[start_time:end_time]\n",
    "    chunk.export(f\"./files/mashiro_{i}.mp3\",format=\"mp3\")"
   ]
  },
  {
   "cell_type": "code",
   "execution_count": 2,
   "metadata": {},
   "outputs": [
    {
     "name": "stdout",
     "output_type": "stream",
     "text": [
      "이번에 알아볼 것은 가면입니다. 가면은 두가지 형태로 스폰하게 되는데, 먼저 아이템이 가면으로 등장합니다. 내답할 수 있는 아이템으로 등장하며, 겉보기엔 다른 판매 가능한 아이템과 차이가 없습니다. 하지만 가면을 쓰면 5초마다 65%의 확률로 빙의가 시작되며, 빙의가 시작되면 잠깐 동안에 경직이 걸린 뒤, 가면에게 몸을 뺏긴 후, 플레이어는 사망처리되고 가면맨으로 바뀌게 됩니다. 저것이 두번째 스폰형태인 가면맨으로, 방금처럼 가면을 써서 가면맨으로 변하거나, 자연적으로 스폰할 때도 있습니다. 가면맨은 좀비와 비슷하게 소리를 들을 수 있고, 사람이 보이면 접근한 뒤, 그 사람도 가면맨으로 만듭니다. 저렇게 가면맨에게 공격당하면 똑같이 가면맨으로 변하게 되며, 이제부터 저 두명은 친구가 아니라 몬스터입니다. 가면맨이 공격을 할 때 사브로 때려주면 공격을 희소시킬 수 있으며, 사브로 4대만 때리면 잡을 수 있습니다. 내가 구해줄게! 내가 구해줄게! 김롱구 죽어! 지금이니! 김롱구 죽어! 사실나이 1도 없었습니다. 가면맨한테 죽기 직전이라면 낙사하거나 가능한 다른 보파한테 죽는 것을 선택해서 2차 피해를 방지합시다. 차라리 코인인자한테 죽어! 때때로 자연스러운 합류를 할 수도 있으니 돈 여유가 될 때 슈트를 바꿔서 착용하면 혹시 모를 불상사를 방지할 수 있습니다. 너 누구야! 가면맨의 또 다른 무서운 점은 평소에 랩을 둘러보다가 사람이 없다고 판단되면 지 스스로 출구 바깥으로 기어나옵니다. 아 씨발 깜짝이야. 바깥으로 나온 가면맨들은 눈앞에서 실내로 들어가도 다시 따라 들어오지 않습니다. 그렇게 바깥을 배회하다가 이런 개짓거리도 쳐하고 뭐야 이거 2킬이야? 제가 봤을 때 이 새끼들 알파고가 조종하는 게 틀림없어요. 아 씨발 미친 새끼들. 만약 가면맨들이 야외를 배회하다가 함선을 찾게 되면 함선 내부에서 누군가 오기를 기다립니다. 이때 자세히 보시면 저 뒤로 한 놈은 모니터 쳐다보고 한 놈은 구석에서 얼굴에 쳐봐가 가면이 안 보이게끔 AI가 설정되어 있습니다. 지금은 가면맨이 너무 많아 자리를 못 잡은 가면맨들이 이쪽을 보지만 실제 인게임에서는 다르니 조심하셔야 합니다. 또한 가면맨들은 커맨더 센터에서 빨간 점으로 표시되지 않고 팀원이 시야를 돌리는 것처럼 보이며 빙의된 팀원은 살아 움직이는 것처럼 보이기 때문에 텔레포트 시키면 큰일 날 수 있습니다. 가면 가이드는 여기까지이며 가면의 AI에 관해 이야깃거리가 굉장히 많은데 직접 확인한 것만 담았습니다. 뭐 나누는 말로는 지들 수가 많을 때 몇 명을 입구를 시키고 몰아넣는 등 다양한 전략을 펼친다고나 하는데 저는 본 적도 없고 실험해봤을 때 그러는 걸 본 적이 없어 굳이 영상에 담지 않았지만 혹시나 아시는 분은 댓글 부탁드립니다.\n"
     ]
    }
   ],
   "source": [
    "import openai\n",
    "transcript = openai.Audio.transcribe(\"whisper-1\",open(\"./files/temp/가면.mp4\",\"rb\"))\n",
    "\n",
    "print(transcript['text'])"
   ]
  },
  {
   "cell_type": "code",
   "execution_count": null,
   "metadata": {},
   "outputs": [],
   "source": []
  }
 ],
 "metadata": {
  "kernelspec": {
   "display_name": "env",
   "language": "python",
   "name": "python3"
  },
  "language_info": {
   "codemirror_mode": {
    "name": "ipython",
    "version": 3
   },
   "file_extension": ".py",
   "mimetype": "text/x-python",
   "name": "python",
   "nbconvert_exporter": "python",
   "pygments_lexer": "ipython3",
   "version": "3.11.1"
  }
 },
 "nbformat": 4,
 "nbformat_minor": 2
}
